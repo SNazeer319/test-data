{
 "cells": [
  {
   "cell_type": "code",
   "execution_count": 2,
   "metadata": {},
   "outputs": [
    {
     "name": "stdout",
     "output_type": "stream",
     "text": [
      "hello world\n"
     ]
    }
   ],
   "source": [
    "print(\"hello world\")\n"
   ]
  },
  {
   "cell_type": "markdown",
   "metadata": {},
   "source": []
  },
  {
   "cell_type": "code",
   "execution_count": 8,
   "metadata": {},
   "outputs": [],
   "source": [
    "import tkinter as tk\n",
    "\n",
    "class Calculator:\n",
    "    def __init__(self, master):\n",
    "        self.master = master\n",
    "        master.title(\"Calculator\")\n",
    "\n",
    "        self.result_var = tk.StringVar()\n",
    "\n",
    "        self.entry = tk.Entry(master, textvariable=self.result_var, font=('Arial', 24), bd=10, insertwidth=2, width=14, borderwidth=4)\n",
    "        self.entry.grid(row=0, column=0, columnspan=4)\n",
    "\n",
    "        self.create_buttons()\n",
    "\n",
    "    def create_buttons(self):\n",
    "        buttons = [\n",
    "            '7', '8', '9', '/',\n",
    "            '4', '5', '6', '*',\n",
    "            '1', '2', '3', '-',\n",
    "            '0', '.', '=', '+'\n",
    "        ]\n",
    "\n",
    "        row_val = 1\n",
    "        col_val = 0\n",
    "\n",
    "        for button in buttons:\n",
    "            tk.Button(self.master, text=button, padx=20, pady=20, font=('Arial', 18),\n",
    "                      command=lambda b=button: self.on_button_click(b)).grid(row=row_val, column=col_val)\n",
    "            col_val += 1\n",
    "            if col_val > 3:\n",
    "                col_val = 0\n",
    "                row_val += 1\n",
    "\n",
    "        tk.Button(self.master, text='C', padx=20, pady=20, font=('Arial', 18),\n",
    "                  command=self.clear).grid(row=row_val, column=0, columnspan=4)\n",
    "\n",
    "    def on_button_click(self, char):\n",
    "        if char == '=':\n",
    "            try:\n",
    "                result = eval(self.result_var.get())\n",
    "                self.result_var.set(result)\n",
    "            except Exception as e:\n",
    "                self.result_var.set(\"Error\")\n",
    "        else:\n",
    "            current_text = self.result_var.get()\n",
    "            self.result_var.set(current_text + char)\n",
    "\n",
    "    def clear(self):\n",
    "        self.result_var.set(\"\")\n",
    "\n",
    "\n",
    "if __name__ == \"__main__\":\n",
    "    root = tk.Tk()\n",
    "    calculator = Calculator(root)\n",
    "    root.mainloop()\n",
    "    "
   ]
  },
  {
   "cell_type": "code",
   "execution_count": null,
   "metadata": {},
   "outputs": [
    {
     "ename": "",
     "evalue": "",
     "output_type": "error",
     "traceback": [
      "\u001b[1;31mFailed to start the Kernel. \n",
      "\u001b[1;31mUnable to start Kernel 'Python 3.12.5' due to a timeout waiting for the ports to get used. \n",
      "\u001b[1;31mView Jupyter <a href='command:jupyter.viewOutput'>log</a> for further details."
     ]
    }
   ],
   "source": [
    "import tkinter as tk\n",
    "\n",
    "class Calculator:\n",
    "    def __init__(self, master):\n",
    "        self.master = master\n",
    "        master.title(\"Calculator\")\n",
    "\n",
    "        self.result_var = tk.StringVar()\n",
    "\n",
    "        self.entry = tk.Entry(master, textvariable=self.result_var, font=('Arial', 24), bd=10, insertwidth=2, width=14, borderwidth=4)\n",
    "        self.entry.grid(row=0, column=0, columnspan=4)\n",
    "\n",
    "        self.create_buttons()\n",
    "\n",
    "    def create_buttons(self):\n",
    "        buttons = [\n",
    "            '7', '8', '9', '/',\n",
    "            '4', '5', '6', '*',\n",
    "            '1', '2', '3', '-',\n",
    "            '0', '.', '=', '+'\n",
    "        ]\n",
    "\n",
    "        row_val = 1\n",
    "        col_val = 0\n",
    "\n",
    "        for button in buttons:\n",
    "            tk.Button(self.master, text=button, padx=20, pady=20, font=('Arial', 18),\n",
    "                      command=lambda b=button: self.on_button_click(b)).grid(row=row_val, column=col_val)\n",
    "            col_val += 1\n",
    "            if col_val > 3:\n",
    "                col_val = 0\n",
    "                row_val += 1\n",
    "\n",
    "        # Clear button\n",
    "        tk.Button(self.master, text='C', padx=20, pady=20, font=('Arial', 18),\n",
    "                  command=self.clear).grid(row=row_val, column=0, columnspan=2)\n",
    "\n",
    "        # Backspace button\n",
    "        tk.Button(self.master, text='←', padx=20, pady=20, font=('Arial', 18),\n",
    "                  command=self.backspace).grid(row=row_val, column=2, columnspan=2)\n",
    "\n",
    "    def on_button_click(self, char):\n",
    "        if char == '=':\n",
    "            try:\n",
    "                result = eval(self.result_var.get())\n",
    "                self.result_var.set(result)\n",
    "            except Exception as e:\n",
    "                self.result_var.set(\"Error\")\n",
    "        else:\n",
    "            current_text = self.result_var.get()\n",
    "            self.result_var.set(current_text + char)\n",
    "\n",
    "    def clear(self):\n",
    "        self.result_var.set(\"\")\n",
    "\n",
    "    def backspace(self):\n",
    "        current_text = self.result_var.get()\n",
    "        # Remove the last character\n",
    "        self.result_var.set(current_text[:-1])\n",
    "\n",
    "\n",
    "if __name__ == \"__main__\":\n",
    "    root = tk.Tk()\n",
    "    calculator = Calculator(root)\n",
    "    root.mainloop()\n"
   ]
  },
  {
   "cell_type": "code",
   "execution_count": 2,
   "metadata": {},
   "outputs": [
    {
     "name": "stdout",
     "output_type": "stream",
     "text": [
      "<module 'numpy' from 'c:\\\\Users\\\\Salman\\\\AppData\\\\Local\\\\Programs\\\\Python\\\\Python312\\\\Lib\\\\site-packages\\\\numpy\\\\__init__.py'>\n"
     ]
    }
   ],
   "source": [
    "import numpy as np\n",
    "numpy = np \n",
    "print(numpy)"
   ]
  },
  {
   "cell_type": "code",
   "execution_count": 3,
   "metadata": {},
   "outputs": [
    {
     "name": "stdout",
     "output_type": "stream",
     "text": [
      "[1 2 3 4]\n"
     ]
    }
   ],
   "source": [
    "import numpy as np \n",
    "array = np.array([1,2,3,4])\n",
    "print(array)"
   ]
  },
  {
   "cell_type": "code",
   "execution_count": 6,
   "metadata": {},
   "outputs": [
    {
     "name": "stdout",
     "output_type": "stream",
     "text": [
      "[1 2 3 4] 1\n"
     ]
    }
   ],
   "source": [
    "import numpy as np \n",
    "array = np.array([1,2,3,4])\n",
    "print(array, array.ndim)"
   ]
  },
  {
   "cell_type": "code",
   "execution_count": 8,
   "metadata": {},
   "outputs": [
    {
     "name": "stdout",
     "output_type": "stream",
     "text": [
      "[[1 2 3 4]\n",
      " [6 7 8 9]] 2\n"
     ]
    }
   ],
   "source": [
    "import numpy as np \n",
    "array = np.array([(1,2,3,4),(6,7,8,9)])\n",
    "print(array, array.ndim)"
   ]
  },
  {
   "cell_type": "code",
   "execution_count": 9,
   "metadata": {},
   "outputs": [
    {
     "name": "stdout",
     "output_type": "stream",
     "text": [
      "[[ 1  2  3  4]\n",
      " [ 6  7  8  9]\n",
      " [10 11 12 13]] 2\n"
     ]
    }
   ],
   "source": [
    "import numpy as np \n",
    "array = np.array([(1,2,3,4),(6,7,8,9),(10,11,12,13)])\n",
    "print(array, array.ndim)"
   ]
  },
  {
   "cell_type": "code",
   "execution_count": 14,
   "metadata": {},
   "outputs": [
    {
     "name": "stdout",
     "output_type": "stream",
     "text": [
      "[1 2 3 4 5] 1 5 (5,) int64\n"
     ]
    }
   ],
   "source": [
    "import numpy as np \n",
    "array = np.array([1,2,3,4,5])\n",
    "print(array, array.ndim, array.size, array.shape, array.dtype)"
   ]
  },
  {
   "cell_type": "code",
   "execution_count": 16,
   "metadata": {},
   "outputs": [
    {
     "name": "stdout",
     "output_type": "stream",
     "text": [
      "[7] 1\n"
     ]
    }
   ],
   "source": [
    "import numpy as np \n",
    "array = np.array([7])\n",
    "print(array, array.ndim)"
   ]
  },
  {
   "cell_type": "code",
   "execution_count": 17,
   "metadata": {},
   "outputs": [
    {
     "name": "stdout",
     "output_type": "stream",
     "text": [
      "[[1 2]\n",
      " [3 4]] 2\n"
     ]
    }
   ],
   "source": [
    "import numpy as np \n",
    "array = np.array([ [1,2],[3,4] ])\n",
    "print(array, array.ndim)"
   ]
  },
  {
   "cell_type": "code",
   "execution_count": 19,
   "metadata": {},
   "outputs": [
    {
     "name": "stdout",
     "output_type": "stream",
     "text": [
      "[[[1 2]\n",
      "  [3 4]]\n",
      "\n",
      " [[5 6]\n",
      "  [7 8]]] 3\n"
     ]
    }
   ],
   "source": [
    "import numpy as np \n",
    "array = np.array([ [[1,2],[3,4]],[[5,6],[7,8]] ])\n",
    "print(array, array.ndim)"
   ]
  },
  {
   "cell_type": "code",
   "execution_count": 24,
   "metadata": {},
   "outputs": [
    {
     "name": "stdout",
     "output_type": "stream",
     "text": [
      "['1' 'hello' '3' '4'] 1\n",
      "hello\n"
     ]
    }
   ],
   "source": [
    "import numpy as np \n",
    "array = np.array([1,\"hello\",3,4])\n",
    "print(array, array.ndim)\n",
    "print(array[1])"
   ]
  },
  {
   "cell_type": "code",
   "execution_count": 53,
   "metadata": {},
   "outputs": [
    {
     "name": "stdout",
     "output_type": "stream",
     "text": [
      "[[1 2 3]\n",
      " [4 5 6]] 2\n",
      "2\n"
     ]
    }
   ],
   "source": [
    "import numpy as np \n",
    "array = np.array([ [1,2,3],[4,5,6] ])\n",
    "print(array, array.ndim)\n",
    "print(array[0,1])"
   ]
  },
  {
   "cell_type": "code",
   "execution_count": 52,
   "metadata": {},
   "outputs": [
    {
     "name": "stdout",
     "output_type": "stream",
     "text": [
      "[[[ 1  2  3]\n",
      "  [ 4  5  6]]\n",
      "\n",
      " [[ 7  8  9]\n",
      "  [10 11 12]]] 3\n",
      "8\n"
     ]
    }
   ],
   "source": [
    "import numpy as np \n",
    "array = np.array([ [[1,2,3],[4,5,6]], [[7,8,9],[10,11,12]] ])\n",
    "print(array, array.ndim)\n",
    "print(array[1,0,1])"
   ]
  },
  {
   "cell_type": "code",
   "execution_count": 7,
   "metadata": {},
   "outputs": [
    {
     "name": "stdout",
     "output_type": "stream",
     "text": [
      "Addition:  15\n",
      "Subtraction:  5\n",
      "Multiplication:  50\n",
      "Division:  2.0\n",
      "Power:  8\n",
      "Modulus:  1\n"
     ]
    }
   ],
   "source": [
    "import numpy as np\n",
    "\n",
    "class NumPyCalculator:\n",
    "    def __init__(self):\n",
    "        pass\n",
    "\n",
    "    def add(self, x, y):\n",
    "        return np.add(x, y)\n",
    "\n",
    "    def subtract(self, x, y):\n",
    "        return np.subtract(x, y)\n",
    "\n",
    "    def multiply(self, x, y):\n",
    "        return np.multiply(x, y)\n",
    "\n",
    "    def divide(self, x, y):\n",
    "        try:\n",
    "            return np.divide(x, y)\n",
    "        except ZeroDivisionError:\n",
    "            return \"Error: Division by zero is undefined.\"\n",
    "\n",
    "    def power(self, x, y):\n",
    "        return np.power(x, y)\n",
    "\n",
    "    def mod(self, x, y):\n",
    "        return np.mod(x, y)\n",
    "\n",
    "# Example usage:\n",
    "if __name__ == \"__main__\":\n",
    "    calc = NumPyCalculator()\n",
    "    \n",
    "    print(\"Addition: \", calc.add(10, 5))\n",
    "    print(\"Subtraction: \", calc.subtract(10, 5))\n",
    "    print(\"Multiplication: \", calc.multiply(10, 5))\n",
    "    print(\"Division: \", calc.divide(10, 5))\n",
    "    print(\"Power: \", calc.power(2, 3))\n",
    "    print(\"Modulus: \", calc.mod(10, 3))"
   ]
  },
  {
   "cell_type": "code",
   "execution_count": 3,
   "metadata": {},
   "outputs": [
    {
     "data": {
      "text/plain": [
       "array([1, 2, 3, 3, 4, 5])"
      ]
     },
     "execution_count": 3,
     "metadata": {},
     "output_type": "execute_result"
    }
   ],
   "source": [
    "import numpy as np\n",
    "\n",
    "array  = [1,2,3]\n",
    "array2 = [3,4,5]\n",
    "\n",
    "arrconc = np.concatenate([array,array2])\n",
    "\n",
    "arrconc"
   ]
  },
  {
   "cell_type": "code",
   "execution_count": 4,
   "metadata": {},
   "outputs": [
    {
     "name": "stdout",
     "output_type": "stream",
     "text": [
      "[[1 2 3 4]\n",
      " [5 6 7 8]] 2\n"
     ]
    }
   ],
   "source": [
    "import numpy as np\n",
    "array = np.array([[1,2,3,4], [5,6,7,8]])\n",
    "print(array, array.ndim)"
   ]
  },
  {
   "cell_type": "code",
   "execution_count": 6,
   "metadata": {},
   "outputs": [
    {
     "name": "stdout",
     "output_type": "stream",
     "text": [
      "[1, 2, 3, 4, 5] [9 8 7]\n"
     ]
    }
   ],
   "source": [
    "import numpy as np\n",
    "\n",
    "arr1 = [1,2,3,4,5]\n",
    "arr2 = np.array([9,8,7])\n",
    "print(arr1, arr2)"
   ]
  },
  {
   "cell_type": "code",
   "execution_count": 7,
   "metadata": {},
   "outputs": [],
   "source": [
    "# import numpy as np \n",
    "# arr1 = np.array([[1,2],[3,4]])\n",
    "# arr2 = np.array([[5,6],[7,8]])\n",
    "# arrconc = np.concatenate((arr1, arr2), axis=1)"
   ]
  },
  {
   "cell_type": "code",
   "execution_count": 8,
   "metadata": {},
   "outputs": [
    {
     "data": {
      "text/plain": [
       "array([[1, 2, 5, 6],\n",
       "       [3, 4, 7, 8]])"
      ]
     },
     "execution_count": 8,
     "metadata": {},
     "output_type": "execute_result"
    }
   ],
   "source": [
    "arrconc"
   ]
  },
  {
   "cell_type": "code",
   "execution_count": 13,
   "metadata": {},
   "outputs": [
    {
     "ename": "ValueError",
     "evalue": "all input arrays must have the same shape",
     "output_type": "error",
     "traceback": [
      "\u001b[1;31m---------------------------------------------------------------------------\u001b[0m",
      "\u001b[1;31mValueError\u001b[0m                                Traceback (most recent call last)",
      "Cell \u001b[1;32mIn[13], line 6\u001b[0m\n\u001b[0;32m      3\u001b[0m arr1 \u001b[38;5;241m=\u001b[39m np\u001b[38;5;241m.\u001b[39marray([\u001b[38;5;241m1\u001b[39m,\u001b[38;5;241m2\u001b[39m,\u001b[38;5;241m3\u001b[39m,\u001b[38;5;241m4\u001b[39m,\u001b[38;5;241m5\u001b[39m])\n\u001b[0;32m      4\u001b[0m arr1 \u001b[38;5;241m=\u001b[39m np\u001b[38;5;241m.\u001b[39marray([\u001b[38;5;241m6\u001b[39m,\u001b[38;5;241m7\u001b[39m,\u001b[38;5;241m8\u001b[39m,\u001b[38;5;241m9\u001b[39m,\u001b[38;5;241m0\u001b[39m])\n\u001b[1;32m----> 6\u001b[0m arrconc \u001b[38;5;241m=\u001b[39m \u001b[43mnp\u001b[49m\u001b[38;5;241;43m.\u001b[39;49m\u001b[43mstack\u001b[49m\u001b[43m(\u001b[49m\u001b[43m(\u001b[49m\u001b[43marr1\u001b[49m\u001b[43m,\u001b[49m\u001b[43m \u001b[49m\u001b[43marr2\u001b[49m\u001b[43m)\u001b[49m\u001b[43m,\u001b[49m\u001b[43m \u001b[49m\u001b[43maxis\u001b[49m\u001b[38;5;241;43m=\u001b[39;49m\u001b[38;5;241;43m1\u001b[39;49m\u001b[43m)\u001b[49m\n\u001b[0;32m      8\u001b[0m \u001b[38;5;28mprint\u001b[39m(arrconc)\n",
      "File \u001b[1;32mc:\\Users\\Salman\\AppData\\Local\\Programs\\Python\\Python312\\Lib\\site-packages\\numpy\\_core\\shape_base.py:457\u001b[0m, in \u001b[0;36mstack\u001b[1;34m(arrays, axis, out, dtype, casting)\u001b[0m\n\u001b[0;32m    455\u001b[0m shapes \u001b[38;5;241m=\u001b[39m {arr\u001b[38;5;241m.\u001b[39mshape \u001b[38;5;28;01mfor\u001b[39;00m arr \u001b[38;5;129;01min\u001b[39;00m arrays}\n\u001b[0;32m    456\u001b[0m \u001b[38;5;28;01mif\u001b[39;00m \u001b[38;5;28mlen\u001b[39m(shapes) \u001b[38;5;241m!=\u001b[39m \u001b[38;5;241m1\u001b[39m:\n\u001b[1;32m--> 457\u001b[0m     \u001b[38;5;28;01mraise\u001b[39;00m \u001b[38;5;167;01mValueError\u001b[39;00m(\u001b[38;5;124m'\u001b[39m\u001b[38;5;124mall input arrays must have the same shape\u001b[39m\u001b[38;5;124m'\u001b[39m)\n\u001b[0;32m    459\u001b[0m result_ndim \u001b[38;5;241m=\u001b[39m arrays[\u001b[38;5;241m0\u001b[39m]\u001b[38;5;241m.\u001b[39mndim \u001b[38;5;241m+\u001b[39m \u001b[38;5;241m1\u001b[39m\n\u001b[0;32m    460\u001b[0m axis \u001b[38;5;241m=\u001b[39m normalize_axis_index(axis, result_ndim)\n",
      "\u001b[1;31mValueError\u001b[0m: all input arrays must have the same shape"
     ]
    }
   ],
   "source": [
    "import numpy as np\n",
    "\n",
    "arr1 = np.array([1,2,3,4,5])\n",
    "arr1 = np.array([6,7,8,9,0])\n",
    "\n",
    "arrconc = np.stack((arr1, arr2), axis=1)\n",
    "\n",
    "print(arrconc)"
   ]
  },
  {
   "cell_type": "code",
   "execution_count": 15,
   "metadata": {},
   "outputs": [
    {
     "name": "stdout",
     "output_type": "stream",
     "text": [
      "[[[1 5]\n",
      "  [2 6]]\n",
      "\n",
      " [[3 7]\n",
      "  [4 8]]]\n"
     ]
    }
   ],
   "source": [
    "import numpy as np\n",
    "arr1 = np.array([[1,2],[3,4]])\n",
    "arr2 = np.array([[5,6],[7,8]])\n",
    "arrconc = np.stack((arr1, arr2), axis=2)\n",
    "print(arrconc)"
   ]
  },
  {
   "cell_type": "code",
   "execution_count": 19,
   "metadata": {},
   "outputs": [
    {
     "name": "stdout",
     "output_type": "stream",
     "text": [
      "[[1 2 5 6]\n",
      " [3 4 7 8]]\n"
     ]
    }
   ],
   "source": [
    "import numpy as np\n",
    "arr1 = np.array([[1,2],[3,4]])\n",
    "arr2 = np.array([[5,6],[7,8]])\n",
    "arrconc = np.hstack((arr1, arr2))\n",
    "print(arrconc)"
   ]
  },
  {
   "cell_type": "code",
   "execution_count": 27,
   "metadata": {},
   "outputs": [
    {
     "name": "stdout",
     "output_type": "stream",
     "text": [
      "[array([1, 2, 3]), array([4, 5, 6])]\n"
     ]
    }
   ],
   "source": [
    "import numpy as np \n",
    "array1 = np.array([1,2,3,4,5,6,])\n",
    "spl = np.split(array1,2)\n",
    "print(spl)"
   ]
  },
  {
   "cell_type": "code",
   "execution_count": 35,
   "metadata": {},
   "outputs": [
    {
     "name": "stdout",
     "output_type": "stream",
     "text": [
      "[array([1, 2]), array([3, 4]), array([5, 6]), array([7, 8])]\n"
     ]
    }
   ],
   "source": [
    "import numpy as np\n",
    "array1 = np.array([1,2,3,4,5,6,7,8])\n",
    "\n",
    "spl = np.array_split(array1,4)\n",
    "print(spl)"
   ]
  },
  {
   "cell_type": "code",
   "execution_count": null,
   "metadata": {},
   "outputs": [],
   "source": [
    "import numpy as np\n"
   ]
  },
  {
   "cell_type": "code",
   "execution_count": 2,
   "metadata": {},
   "outputs": [
    {
     "name": "stdout",
     "output_type": "stream",
     "text": [
      "    Name  Age      City\n",
      "0   John   29  New York\n",
      "1   Anna   34     Tokyo\n",
      "2  Peter   27    London\n",
      "3  Linda   25     Paris\n"
     ]
    }
   ],
   "source": [
    "import pandas as pd\n",
    "\n",
    "# Create a dictionary with the data\n",
    "data = {\n",
    "    'Name': ['John', 'Anna', 'Peter', 'Linda'],  \n",
    "    'Age': [29, 34, 27, 25],                    \n",
    "    'City': ['New York', 'Tokyo', 'London', 'Paris']\n",
    "}\n",
    "\n",
    "\n",
    "df = pd.DataFrame(data)\n",
    "\n",
    "\n",
    "print(df)\n",
    "\n"
   ]
  },
  {
   "cell_type": "code",
   "execution_count": 19,
   "metadata": {},
   "outputs": [],
   "source": [
    "import sys \n",
    "import pandas as pd\n",
    "import matplotlib\n",
    "\n",
    "\n",
    "matplotlib.use(\"Agg\")\n",
    "\n",
    "import matplotlib.pyplot as plt\n",
    "\n",
    "df = pd.read_csv(\"salary.csv\")\n",
    "\n",
    "df.plot()\n",
    "\n",
    "plt.savefig(\"output.png\")\n",
    "sys.stdout.flush()\n",
    "\n",
    "\n",
    "\n"
   ]
  },
  {
   "cell_type": "code",
   "execution_count": 4,
   "metadata": {},
   "outputs": [
    {
     "data": {
      "text/html": [
       "<div>\n",
       "<style scoped>\n",
       "    .dataframe tbody tr th:only-of-type {\n",
       "        vertical-align: middle;\n",
       "    }\n",
       "\n",
       "    .dataframe tbody tr th {\n",
       "        vertical-align: top;\n",
       "    }\n",
       "\n",
       "    .dataframe thead th {\n",
       "        text-align: right;\n",
       "    }\n",
       "</style>\n",
       "<table border=\"1\" class=\"dataframe\">\n",
       "  <thead>\n",
       "    <tr style=\"text-align: right;\">\n",
       "      <th></th>\n",
       "      <th>Name</th>\n",
       "      <th>Shift on</th>\n",
       "      <th>Shift off</th>\n",
       "    </tr>\n",
       "  </thead>\n",
       "  <tbody>\n",
       "    <tr>\n",
       "      <th>0</th>\n",
       "      <td>Daniel</td>\n",
       "      <td>8am</td>\n",
       "      <td>6pm</td>\n",
       "    </tr>\n",
       "    <tr>\n",
       "      <th>1</th>\n",
       "      <td>Lucifer</td>\n",
       "      <td>10pm</td>\n",
       "      <td>8am</td>\n",
       "    </tr>\n",
       "    <tr>\n",
       "      <th>2</th>\n",
       "      <td>Lupaiz</td>\n",
       "      <td>11am</td>\n",
       "      <td>9pm</td>\n",
       "    </tr>\n",
       "  </tbody>\n",
       "</table>\n",
       "</div>"
      ],
      "text/plain": [
       "      Name Shift on Shift off\n",
       "0   Daniel      8am       6pm\n",
       "1  Lucifer     10pm       8am\n",
       "2   Lupaiz     11am       9pm"
      ]
     },
     "execution_count": 4,
     "metadata": {},
     "output_type": "execute_result"
    }
   ],
   "source": [
    "import pandas as pd\n",
    "\n",
    "df1 = pd.read_csv(\"shift.csv\")\n",
    "\n",
    "df1"
   ]
  },
  {
   "cell_type": "code",
   "execution_count": 5,
   "metadata": {},
   "outputs": [
    {
     "data": {
      "text/html": [
       "<div>\n",
       "<style scoped>\n",
       "    .dataframe tbody tr th:only-of-type {\n",
       "        vertical-align: middle;\n",
       "    }\n",
       "\n",
       "    .dataframe tbody tr th {\n",
       "        vertical-align: top;\n",
       "    }\n",
       "\n",
       "    .dataframe thead th {\n",
       "        text-align: right;\n",
       "    }\n",
       "</style>\n",
       "<table border=\"1\" class=\"dataframe\">\n",
       "  <thead>\n",
       "    <tr style=\"text-align: right;\">\n",
       "      <th></th>\n",
       "      <th>Name</th>\n",
       "      <th>Salary</th>\n",
       "      <th>Age</th>\n",
       "      <th>Experience</th>\n",
       "    </tr>\n",
       "  </thead>\n",
       "  <tbody>\n",
       "    <tr>\n",
       "      <th>0</th>\n",
       "      <td>Daniel</td>\n",
       "      <td>50k</td>\n",
       "      <td>23</td>\n",
       "      <td>2.0</td>\n",
       "    </tr>\n",
       "    <tr>\n",
       "      <th>1</th>\n",
       "      <td>John</td>\n",
       "      <td>65k</td>\n",
       "      <td>22</td>\n",
       "      <td>2.5</td>\n",
       "    </tr>\n",
       "    <tr>\n",
       "      <th>2</th>\n",
       "      <td>Andrew</td>\n",
       "      <td>60k</td>\n",
       "      <td>25</td>\n",
       "      <td>3.0</td>\n",
       "    </tr>\n",
       "  </tbody>\n",
       "</table>\n",
       "</div>"
      ],
      "text/plain": [
       "     Name Salary  Age  Experience\n",
       "0  Daniel    50k   23         2.0\n",
       "1    John    65k   22         2.5\n",
       "2  Andrew    60k   25         3.0"
      ]
     },
     "execution_count": 5,
     "metadata": {},
     "output_type": "execute_result"
    }
   ],
   "source": [
    "import pandas as pd\n",
    "\n",
    "df2 = pd.read_csv(\"salary.csv\")\n",
    "\n",
    "df2"
   ]
  },
  {
   "cell_type": "code",
   "execution_count": 6,
   "metadata": {},
   "outputs": [
    {
     "data": {
      "text/html": [
       "<div>\n",
       "<style scoped>\n",
       "    .dataframe tbody tr th:only-of-type {\n",
       "        vertical-align: middle;\n",
       "    }\n",
       "\n",
       "    .dataframe tbody tr th {\n",
       "        vertical-align: top;\n",
       "    }\n",
       "\n",
       "    .dataframe thead th {\n",
       "        text-align: right;\n",
       "    }\n",
       "</style>\n",
       "<table border=\"1\" class=\"dataframe\">\n",
       "  <thead>\n",
       "    <tr style=\"text-align: right;\">\n",
       "      <th></th>\n",
       "      <th>Name</th>\n",
       "      <th>Shift on</th>\n",
       "      <th>Shift off</th>\n",
       "      <th>Salary</th>\n",
       "      <th>Age</th>\n",
       "      <th>Experience</th>\n",
       "    </tr>\n",
       "  </thead>\n",
       "  <tbody>\n",
       "    <tr>\n",
       "      <th>0</th>\n",
       "      <td>Daniel</td>\n",
       "      <td>8am</td>\n",
       "      <td>6pm</td>\n",
       "      <td>50k</td>\n",
       "      <td>23</td>\n",
       "      <td>2.0</td>\n",
       "    </tr>\n",
       "  </tbody>\n",
       "</table>\n",
       "</div>"
      ],
      "text/plain": [
       "     Name Shift on Shift off Salary  Age  Experience\n",
       "0  Daniel      8am       6pm    50k   23         2.0"
      ]
     },
     "execution_count": 6,
     "metadata": {},
     "output_type": "execute_result"
    }
   ],
   "source": [
    "import pandas as pd\n",
    "\n",
    "df1 = pd.read_csv(\"shift.csv\")\n",
    "df2 = pd.read_csv(\"salary.csv\")\n",
    "df3 = pd.merge(df1,df2)\n",
    "df3"
   ]
  },
  {
   "cell_type": "code",
   "execution_count": 22,
   "metadata": {},
   "outputs": [
    {
     "name": "stdout",
     "output_type": "stream",
     "text": [
      "     Names  Age  Salary\n",
      "0   Andrew   23   20000\n",
      "1   Daniel   34   46000\n",
      "2     John   76   74000\n",
      "3  Lucifer   43   78000\n"
     ]
    }
   ],
   "source": [
    "import pandas as pd\n",
    "\n",
    "# Correcting the dictionary syntax\n",
    "data = {\n",
    "    'Names': ['Andrew', 'Daniel', 'John', 'Lucifer'],  # Colon used instead of equal sign\n",
    "    'Age': [23, 34, 76, 43],                           # Colon used instead of equal sign\n",
    "    'Salary': [20000, 46000, 74000, 78000]             # Colon used instead of equal sign\n",
    "}\n",
    "\n",
    "# Create a DataFrame from the dictionary\n",
    "df = pd.DataFrame(data)\n",
    "\n",
    "# Display the DataFrame\n",
    "print(df)\n"
   ]
  },
  {
   "cell_type": "code",
   "execution_count": 23,
   "metadata": {},
   "outputs": [
    {
     "name": "stdout",
     "output_type": "stream",
     "text": [
      "      Name  Age  Salary\n",
      "0   Andrew   23   20000\n",
      "1   Daniel   34   46000\n",
      "2     John   76   74000\n",
      "3  Lucifer   43   78000\n",
      "      Name  Age  Salary\n",
      "0   Andrew   23   20000\n",
      "1   Daniel   34   46000\n",
      "2     John   76   74000\n",
      "3  Lucifer   43   78000\n"
     ]
    }
   ],
   "source": [
    "import pandas as pd\n",
    "\n",
    "# Create a DataFrame from a list of dictionaries\n",
    "\n",
    "data = [\n",
    "    {'Name': 'Andrew', 'Age': 23, 'Salary': 20000},\n",
    "    {'Name': 'Daniel', 'Age': 34, 'Salary': 46000},\n",
    "    {'Name': 'John', 'Age': 76, 'Salary': 74000},\n",
    "    {'Name': 'Lucifer', 'Age': 43, 'Salary': 78000}\n",
    "]\n",
    "\n",
    "df = pd.DataFrame(data)\n",
    "\n",
    "# Display the DataFrame\n",
    "\n",
    "print(df)\n",
    "\n",
    "import pandas as pd\n",
    "\n",
    "# Create a DataFrame from a list of lists\n",
    "\n",
    "data = [\n",
    "    ['Andrew', 23, 20000],\n",
    "    ['Daniel', 34, 46000],\n",
    "    ['John', 76, 74000],\n",
    "    ['Lucifer', 43, 78000]\n",
    "]\n",
    "\n",
    "df = pd.DataFrame(data, columns=['Name', 'Age', 'Salary'])\n",
    "\n",
    "# Display the DataFrame\n",
    "\n",
    "print(df)\n"
   ]
  },
  {
   "cell_type": "code",
   "execution_count": 24,
   "metadata": {},
   "outputs": [
    {
     "ename": "AttributeError",
     "evalue": "'builtin_function_or_method' object has no attribute 'read_csv'",
     "output_type": "error",
     "traceback": [
      "\u001b[1;31m---------------------------------------------------------------------------\u001b[0m",
      "\u001b[1;31mAttributeError\u001b[0m                            Traceback (most recent call last)",
      "Cell \u001b[1;32mIn[24], line 3\u001b[0m\n\u001b[0;32m      1\u001b[0m \u001b[38;5;28;01mimport\u001b[39;00m \u001b[38;5;21;01mnumpy\u001b[39;00m \u001b[38;5;28;01mas\u001b[39;00m \u001b[38;5;21;01mnp\u001b[39;00m \n\u001b[1;32m----> 3\u001b[0m df1 \u001b[38;5;241m=\u001b[39m \u001b[43mnp\u001b[49m\u001b[38;5;241;43m.\u001b[39;49m\u001b[43marray\u001b[49m\u001b[38;5;241;43m.\u001b[39;49m\u001b[43mread_csv\u001b[49m(\u001b[38;5;124m\"\u001b[39m\u001b[38;5;124msalary.csv\u001b[39m\u001b[38;5;124m\"\u001b[39m)\n\u001b[0;32m      4\u001b[0m df2 \u001b[38;5;241m=\u001b[39m np\u001b[38;5;241m.\u001b[39marray\u001b[38;5;241m.\u001b[39mread_csv(\u001b[38;5;124m\"\u001b[39m\u001b[38;5;124mshift.csv\u001b[39m\u001b[38;5;124m\"\u001b[39m)\n\u001b[0;32m      5\u001b[0m df3 \u001b[38;5;241m=\u001b[39m np\u001b[38;5;241m.\u001b[39mmerge(df1, df2)\n",
      "\u001b[1;31mAttributeError\u001b[0m: 'builtin_function_or_method' object has no attribute 'read_csv'"
     ]
    }
   ],
   "source": [
    "import numpy as np \n",
    "\n",
    "df1 = np.array.read_csv(\"salary.csv\")\n",
    "df2 = np.array.read_csv(\"shift.csv\")\n",
    "df3 = np.merge(df1, df2)\n",
    "\n",
    "print(df3)"
   ]
  },
  {
   "cell_type": "code",
   "execution_count": 25,
   "metadata": {},
   "outputs": [
    {
     "name": "stdout",
     "output_type": "stream",
     "text": [
      "[[ nan  nan 23.   2. ]\n",
      " [ nan  nan 22.   2.5]\n",
      " [ nan  nan 25.   3. ]]\n"
     ]
    }
   ],
   "source": [
    "import numpy as np\n",
    "\n",
    "data = np.genfromtxt('salary.csv', delimiter=',', skip_header=1)\n",
    " \n",
    "print(data)"
   ]
  },
  {
   "cell_type": "code",
   "execution_count": 27,
   "metadata": {},
   "outputs": [
    {
     "name": "stdout",
     "output_type": "stream",
     "text": [
      "Data after replacing NaNs with column means:\n",
      " [[ nan  nan 23.   2. ]\n",
      " [ nan  nan 22.   2.5]\n",
      " [ nan  nan 25.   3. ]]\n"
     ]
    },
    {
     "name": "stderr",
     "output_type": "stream",
     "text": [
      "C:\\Users\\Salman\\AppData\\Local\\Temp\\ipykernel_14948\\1979945065.py:7: RuntimeWarning: Mean of empty slice\n",
      "  col_means = np.nanmean(data, axis=0)\n"
     ]
    }
   ],
   "source": [
    "import numpy as np\n",
    "\n",
    "# Load the CSV file into a NumPy array, using np.genfromtxt to handle missing data\n",
    "data = np.genfromtxt('salary.csv', delimiter=',', skip_header=1)\n",
    "\n",
    "# Calculate the mean of each column, ignoring NaNs\n",
    "col_means = np.nanmean(data, axis=0)\n",
    "\n",
    "# Find indices where NaN values are present\n",
    "nan_indices = np.where(np.isnan(data))\n",
    "\n",
    "# Replace NaNs with the mean of the respective column\n",
    "data[nan_indices] = np.take(col_means, nan_indices[1])\n",
    "\n",
    "print(\"Data after replacing NaNs with column means:\\n\", data)\n"
   ]
  },
  {
   "cell_type": "code",
   "execution_count": 33,
   "metadata": {},
   "outputs": [
    {
     "name": "stdout",
     "output_type": "stream",
     "text": [
      "Original Data:\n",
      "[[ 1.          2.          3.          4.         28.75      ]\n",
      " [ 2.          4.          6.          8.         10.        ]\n",
      " [ 3.          6.          9.         12.         15.        ]\n",
      " [ 4.          8.         12.         22.66666667 20.        ]\n",
      " [ 5.         10.         15.         20.         25.        ]\n",
      " [ 6.         12.         18.         24.         30.        ]\n",
      " [ 7.         14.         21.         28.         35.        ]\n",
      " [ 8.         16.         24.         32.         28.75      ]\n",
      " [ 9.         18.         27.         36.         45.        ]\n",
      " [10.         20.         30.         40.         50.        ]]\n",
      "\n",
      "Normalized Data:\n",
      "[[0.         0.         0.         0.         0.46875   ]\n",
      " [0.11111111 0.11111111 0.11111111 0.11111111 0.        ]\n",
      " [0.22222222 0.22222222 0.22222222 0.22222222 0.125     ]\n",
      " [0.33333333 0.33333333 0.33333333 0.51851852 0.25      ]\n",
      " [0.44444444 0.44444444 0.44444444 0.44444444 0.375     ]\n",
      " [0.55555556 0.55555556 0.55555556 0.55555556 0.5       ]\n",
      " [0.66666667 0.66666667 0.66666667 0.66666667 0.625     ]\n",
      " [0.77777778 0.77777778 0.77777778 0.77777778 0.46875   ]\n",
      " [0.88888889 0.88888889 0.88888889 0.88888889 0.875     ]\n",
      " [1.         1.         1.         1.         1.        ]]\n",
      "\n",
      "Standardized Data:\n",
      "[[-1.5666989  -1.5666989  -1.5666989  -1.64991582  0.        ]\n",
      " [-1.21854359 -1.21854359 -1.21854359 -1.29636243 -1.59178635]\n",
      " [-0.87038828 -0.87038828 -0.87038828 -0.94280904 -1.16730999]\n",
      " [-0.52223297 -0.52223297 -0.52223297  0.         -0.74283363]\n",
      " [-0.17407766 -0.17407766 -0.17407766 -0.23570226 -0.31835727]\n",
      " [ 0.17407766  0.17407766  0.17407766  0.11785113  0.10611909]\n",
      " [ 0.52223297  0.52223297  0.52223297  0.47140452  0.53059545]\n",
      " [ 0.87038828  0.87038828  0.87038828  0.82495791  0.        ]\n",
      " [ 1.21854359  1.21854359  1.21854359  1.1785113   1.37954817]\n",
      " [ 1.5666989   1.5666989   1.5666989   1.53206469  1.80402453]]\n",
      "\n",
      "Transformed Data (PCA):\n",
      "[[ 2.90562365  1.28185694]\n",
      " [ 2.90706715 -0.45234957]\n",
      " [ 2.09632293 -0.34633041]\n",
      " [ 1.01842226 -0.39602581]\n",
      " [ 0.47483448 -0.1342921 ]\n",
      " [-0.33590974 -0.02827295]\n",
      " [-1.14665397  0.0777462 ]\n",
      " [-1.57267769 -0.68792048]\n",
      " [-2.76814241  0.28978451]\n",
      " [-3.57888664  0.39580367]]\n"
     ]
    }
   ],
   "source": []
  }
 ],
 "metadata": {
  "kernelspec": {
   "display_name": "Python 3",
   "language": "python",
   "name": "python3"
  },
  "language_info": {
   "codemirror_mode": {
    "name": "ipython",
    "version": 3
   },
   "file_extension": ".py",
   "mimetype": "text/x-python",
   "name": "python",
   "nbconvert_exporter": "python",
   "pygments_lexer": "ipython3",
   "version": "3.12.5"
  }
 },
 "nbformat": 4,
 "nbformat_minor": 2
}
